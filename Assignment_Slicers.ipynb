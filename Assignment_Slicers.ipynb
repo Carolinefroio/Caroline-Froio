{
  "nbformat": 4,
  "nbformat_minor": 0,
  "metadata": {
    "colab": {
      "provenance": [],
      "authorship_tag": "ABX9TyP6DxH++xjS2oeEv5wBZZa+",
      "include_colab_link": true
    },
    "kernelspec": {
      "name": "python3",
      "display_name": "Python 3"
    },
    "language_info": {
      "name": "python"
    }
  },
  "cells": [
    {
      "cell_type": "markdown",
      "metadata": {
        "id": "view-in-github",
        "colab_type": "text"
      },
      "source": [
        "<a href=\"https://colab.research.google.com/github/Carolinefroio/Caroline-Froio/blob/main/Assignment_Slicers.ipynb\" target=\"_parent\"><img src=\"https://colab.research.google.com/assets/colab-badge.svg\" alt=\"Open In Colab\"/></a>"
      ]
    },
    {
      "cell_type": "code",
      "execution_count": 1,
      "metadata": {
        "colab": {
          "base_uri": "https://localhost:8080/"
        },
        "id": "W6xG4LCvNspy",
        "outputId": "cd751bce-92eb-4639-b9d4-4cabe1de93fd"
      },
      "outputs": [
        {
          "output_type": "stream",
          "name": "stdout",
          "text": [
            "Enter Date ( MM/DD/YYYY):09/11/2003\n",
            "Month= 09\n",
            "Day= 11\n",
            "Year= 2003\n"
          ]
        }
      ],
      "source": [
        "Date = input(\"Enter Date ( MM/DD/YYYY):\")\n",
        "\n",
        "\n",
        "\n",
        "print(\"Month=\", Date[:2])\n",
        "print(\"Day=\", Date[3:5])\n",
        "print(\"Year=\", Date[6:11])\n",
        "\n",
        "\n",
        "\n"
      ]
    }
  ]
}